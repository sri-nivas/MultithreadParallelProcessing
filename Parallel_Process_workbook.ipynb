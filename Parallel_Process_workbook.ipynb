{
  "nbformat": 4,
  "nbformat_minor": 0,
  "metadata": {
    "colab": {
      "name": "Parallel_Process_workbook.ipynb",
      "provenance": [],
      "collapsed_sections": []
    },
    "kernelspec": {
      "name": "python3",
      "display_name": "Python 3"
    },
    "language_info": {
      "name": "python"
    }
  },
  "cells": [
    {
      "cell_type": "code",
      "metadata": {
        "id": "6nT2fJ-PeA2d"
      },
      "source": [
        "with open('dict_file.csv','w') as fl:\n",
        "  fl.write('id_key,api_key, \\n')\n",
        "  for i in range(1,10000):\n",
        "    line = 'ID' + str(i) + ',' + 'API_String_' + str(i) + ', \\n'\n",
        "    fl.write(line)\n",
        "\n",
        "fl.close()"
      ],
      "execution_count": 1,
      "outputs": []
    },
    {
      "cell_type": "code",
      "metadata": {
        "colab": {
          "base_uri": "https://localhost:8080/"
        },
        "id": "cQ1DeLVpf1U2",
        "outputId": "b848b34b-4a87-48ad-9bb0-3576c22378c9"
      },
      "source": [
        "import pandas as pd\n",
        "\n",
        "df = pd.read_csv('dict_file.csv')\n",
        "print(df.head(3))\n",
        "print(df.tail(3))"
      ],
      "execution_count": 3,
      "outputs": [
        {
          "output_type": "stream",
          "name": "stdout",
          "text": [
            "  id_key       api_key   \n",
            "0    ID1  API_String_1   \n",
            "1    ID2  API_String_2   \n",
            "2    ID3  API_String_3   \n",
            "      id_key          api_key   \n",
            "9996  ID9997  API_String_9997   \n",
            "9997  ID9998  API_String_9998   \n",
            "9998  ID9999  API_String_9999   \n"
          ]
        }
      ]
    },
    {
      "cell_type": "code",
      "metadata": {
        "id": "3091AI7W0WOq"
      },
      "source": [
        "# for i in range(1, 100):\n",
        "#   print(i, int(i/2500), int(i%2500))\n",
        "print()"
      ],
      "execution_count": null,
      "outputs": []
    },
    {
      "cell_type": "code",
      "metadata": {
        "id": "lvsOOKm9gYLj"
      },
      "source": [
        "import requests as rq\n",
        "\n",
        "x = 0\n",
        "i = 0\n",
        "def get_API(com_id):\n",
        "  '''\n",
        "  Books API link used to demonstrate my process. Here is sample\n",
        "  https://xkcd.com//info.0.json or \n",
        "  https://xkcd.com/{commic_Id}/info.0.json  -> {commic_Id} is the variable I have to pass to fetch data \n",
        "                                                like below example  https://xkcd.com/1/info.0.json\n",
        "\n",
        "  Note: There are only 2500 titles available in the API link.\n",
        "        In order to test 10000 calls, I have to repeat same catalog of 2500 copies until 10000 calls\n",
        "        from DataFrame element as input.\n",
        "  '''\n",
        "  str1 = 'https://xkcd.com/'\n",
        "  str2 = '/info.0.json'\n",
        "  #print('-->', com_id)\n",
        "  j = int(int(com_id) % 2500) \n",
        "  #print('-->', j)\n",
        "  if j == 0:\n",
        "    j = 2500\n",
        "  \n",
        "  try:\n",
        "    URL_LINK = str1 + str(j) + str2\n",
        "    read_api = rq.get(url=URL_LINK)\n",
        "    data = read_api.json()['title']\n",
        "  except:\n",
        "    print('#### ERROR at commic ID: ',j)\n",
        "    data = '*** JSONDecodeError on commic-ID. Dummy text ****'\n",
        "  #return [URL_LINK, data['title']]\n",
        "  return str(data)\n",
        "\n",
        "\n",
        "# for i in range(400, 1000): \n",
        "#   # if (i % 2500 == 0):\n",
        "#   #   x = x + 1\n",
        "#   # else:\n",
        "#   #   x = int(i/2500)\n",
        "#   #   j = i - (2500 * x )\n",
        "#   #print(i, j, x)\n",
        "#   api_data = get_API(i) #[1] \n",
        "#   print(api_data)\n",
        "\n"
      ],
      "execution_count": 5,
      "outputs": []
    },
    {
      "cell_type": "code",
      "metadata": {
        "colab": {
          "base_uri": "https://localhost:8080/"
        },
        "id": "STPLZr2s1qcW",
        "outputId": "a8536f19-e8b2-44f4-a862-7a59c2db182a"
      },
      "source": [
        "sdf = df[['id_key', 'api_key']]\n",
        "print(sdf.head())\n",
        "print(sdf.columns)\n",
        "#print(sdf[['api_key']] )\n",
        "\n",
        "sdf['test'] = sdf['api_key'].apply( lambda x: x.split('API_String_')[1] ) #get_API( x.split('API_String_')[1] )[1] ) \n",
        "print(sdf.head(5))\n",
        "sdf['result'] = sdf['test'].apply( lambda x: get_API(x) )\n",
        "print(sdf.head(5))"
      ],
      "execution_count": 45,
      "outputs": [
        {
          "output_type": "stream",
          "name": "stdout",
          "text": [
            "  id_key       api_key\n",
            "0    ID1  API_String_1\n",
            "1    ID2  API_String_2\n",
            "2    ID3  API_String_3\n",
            "3    ID4  API_String_4\n",
            "4    ID5  API_String_5\n",
            "Index(['id_key', 'api_key'], dtype='object')\n",
            "  id_key       api_key test\n",
            "0    ID1  API_String_1    1\n",
            "1    ID2  API_String_2    2\n",
            "2    ID3  API_String_3    3\n",
            "3    ID4  API_String_4    4\n",
            "4    ID5  API_String_5    5\n",
            "#### ERROR so temp text 404\n",
            "#### ERROR so temp text 404\n",
            "#### ERROR so temp text 404\n",
            "#### ERROR so temp text 404\n",
            "  id_key       api_key test                result\n",
            "0    ID1  API_String_1    1       Barrel - Part 1\n",
            "1    ID2  API_String_2    2  Petit Trees (sketch)\n",
            "2    ID3  API_String_3    3       Island (sketch)\n",
            "3    ID4  API_String_4    4    Landscape (sketch)\n",
            "4    ID5  API_String_5    5           Blown apart\n"
          ]
        }
      ]
    },
    {
      "cell_type": "code",
      "metadata": {
        "id": "ZCrOEqWL1rNF"
      },
      "source": [
        "\n",
        "import warnings\n",
        "warnings.filterwarnings('ignore')\n",
        "\n",
        "def new_col(dfx):\n",
        "  dfx['api_result'] = dfx['api_key'].apply( lambda x: get_API( x.split('API_String_')[1] ) )\n",
        "  return dfx\n"
      ],
      "execution_count": 47,
      "outputs": []
    },
    {
      "cell_type": "code",
      "metadata": {
        "id": "fjD4uwV3LIjj"
      },
      "source": [
        "import numpy as np\n",
        "from multiprocessing import  Pool\n",
        "\n",
        "def df_parallel(df_temp, fn_new_col, n_cores=100):\n",
        "    df_split = np.array_split(df_temp, n_cores)\n",
        "    fn_pool = Pool(n_cores)\n",
        "    new_df = pd.concat(fn_pool.map(fn_new_col, df_split))\n",
        "    fn_pool.close()\n",
        "    fn_pool.join()\n",
        "    return new_df\n",
        "\n"
      ],
      "execution_count": 48,
      "outputs": []
    },
    {
      "cell_type": "code",
      "metadata": {
        "colab": {
          "base_uri": "https://localhost:8080/"
        },
        "id": "tdZwt1d1bREg",
        "outputId": "d62f1a40-9fd8-4bbc-fecb-80cde867858e"
      },
      "source": [
        "rs_df = df_parallel(df, new_col)\n",
        "print(rs_df)"
      ],
      "execution_count": 50,
      "outputs": [
        {
          "output_type": "stream",
          "name": "stdout",
          "text": [
            "#### ERROR so temp text 404\n",
            "#### ERROR so temp text 404\n",
            "#### ERROR so temp text 404\n",
            "#### ERROR so temp text 404\n",
            "      id_key          api_key               api_result\n",
            "0        ID1     API_String_1          Barrel - Part 1\n",
            "1        ID2     API_String_2     Petit Trees (sketch)\n",
            "2        ID3     API_String_3          Island (sketch)\n",
            "3        ID4     API_String_4       Landscape (sketch)\n",
            "4        ID5     API_String_5              Blown apart\n",
            "...      ...              ... ..                   ...\n",
            "9994  ID9995  API_String_9995      Universal Seat Belt\n",
            "9995  ID9996  API_String_9996             Mine Captcha\n",
            "9996  ID9997  API_String_9997              Logic Gates\n",
            "9997  ID9998  API_String_9998              Forest Walk\n",
            "9998  ID9999  API_String_9999     Abandonment Function\n",
            "\n",
            "[9999 rows x 4 columns]\n"
          ]
        }
      ]
    },
    {
      "cell_type": "code",
      "metadata": {
        "colab": {
          "base_uri": "https://localhost:8080/"
        },
        "id": "Lf9R7aa-WpAY",
        "outputId": "1c382833-d32e-4cc2-c984-d2d04214fb8f"
      },
      "source": [
        "import warnings\n",
        "warnings.filterwarnings('ignore')\n",
        "import threading\n",
        "import pandas as pd\n",
        "  \n",
        "# global variable x\n",
        "# x = 0\n",
        "  \n",
        "# def increment():\n",
        "#     \"\"\"\n",
        "#     function to increment global variable x\n",
        "#     \"\"\"\n",
        "#     global x\n",
        "#     x += 1\n",
        "\n",
        "#\n",
        "def thread_task(lock, dfx):\n",
        "    \"\"\"\n",
        "    task for thread\n",
        "    calls increment function 100000 times.\n",
        "    \"\"\"\n",
        "    df_ls = []\n",
        "    lock.acquire()\n",
        "    dfx['api_result'] = dfx['api_key'].apply( lambda x: get_API( x.split('API_String_')[1] ) )\n",
        "    lock.release()\n",
        "    #print(dfx.head(2))\n",
        "    #df_thr = pd.concat(dfx)\n",
        "    print(dfx.shape)\n",
        "    return dfx\n",
        "  \n",
        "def main_task():\n",
        "    global df_thr\n",
        "    # setting global variable x as 0\n",
        "    df_thr = df[:1]\n",
        "  \n",
        "    # creating a lock\n",
        "    lock = threading.Lock()\n",
        "  \n",
        "    # creating threads\n",
        "    t1 = threading.Thread(target=thread_task, args=(lock,df[1:100]))\n",
        "    t2 = threading.Thread(target=thread_task, args=(lock,df[101:200]))\n",
        "  \n",
        "    # start threads\n",
        "    print('t1.start')\n",
        "    t1.start()\n",
        "    print('t2.start')\n",
        "    t2.start()\n",
        "  \n",
        "    # wait until threads finish their job\n",
        "    t1.join()\n",
        "    print('t1.join')\n",
        "    t2.join()\n",
        "    print('t2.join')\n",
        "    #print(type(t1))\n",
        "    #print(help(t1))\n",
        "    #print(t1)\n",
        "  \n",
        "if __name__ == \"__main__\":\n",
        "    #for i in range(10):\n",
        "    main_task()\n",
        "    print(df_thr)\n"
      ],
      "execution_count": 23,
      "outputs": [
        {
          "output_type": "stream",
          "name": "stdout",
          "text": [
            "t1.start\n",
            "t2.start\n",
            "(99, 4)\n",
            "t1.join\n",
            "(99, 4)\n",
            "t2.join\n",
            "<class 'threading.Thread'>\n",
            "Help on Thread in module threading object:\n",
            "\n",
            "class Thread(builtins.object)\n",
            " |  Thread(group=None, target=None, name=None, args=(), kwargs=None, *, daemon=None)\n",
            " |  \n",
            " |  A class that represents a thread of control.\n",
            " |  \n",
            " |  This class can be safely subclassed in a limited fashion. There are two ways\n",
            " |  to specify the activity: by passing a callable object to the constructor, or\n",
            " |  by overriding the run() method in a subclass.\n",
            " |  \n",
            " |  Methods defined here:\n",
            " |  \n",
            " |  __init__(self, group=None, target=None, name=None, args=(), kwargs=None, *, daemon=None)\n",
            " |      This constructor should always be called with keyword arguments. Arguments are:\n",
            " |      \n",
            " |      *group* should be None; reserved for future extension when a ThreadGroup\n",
            " |      class is implemented.\n",
            " |      \n",
            " |      *target* is the callable object to be invoked by the run()\n",
            " |      method. Defaults to None, meaning nothing is called.\n",
            " |      \n",
            " |      *name* is the thread name. By default, a unique name is constructed of\n",
            " |      the form \"Thread-N\" where N is a small decimal number.\n",
            " |      \n",
            " |      *args* is the argument tuple for the target invocation. Defaults to ().\n",
            " |      \n",
            " |      *kwargs* is a dictionary of keyword arguments for the target\n",
            " |      invocation. Defaults to {}.\n",
            " |      \n",
            " |      If a subclass overrides the constructor, it must make sure to invoke\n",
            " |      the base class constructor (Thread.__init__()) before doing anything\n",
            " |      else to the thread.\n",
            " |  \n",
            " |  __repr__(self)\n",
            " |      Return repr(self).\n",
            " |  \n",
            " |  getName(self)\n",
            " |  \n",
            " |  isAlive(self)\n",
            " |      Return whether the thread is alive.\n",
            " |      \n",
            " |      This method is deprecated, use is_alive() instead.\n",
            " |  \n",
            " |  isDaemon(self)\n",
            " |  \n",
            " |  is_alive(self)\n",
            " |      Return whether the thread is alive.\n",
            " |      \n",
            " |      This method returns True just before the run() method starts until just\n",
            " |      after the run() method terminates. The module function enumerate()\n",
            " |      returns a list of all alive threads.\n",
            " |  \n",
            " |  join(self, timeout=None)\n",
            " |      Wait until the thread terminates.\n",
            " |      \n",
            " |      This blocks the calling thread until the thread whose join() method is\n",
            " |      called terminates -- either normally or through an unhandled exception\n",
            " |      or until the optional timeout occurs.\n",
            " |      \n",
            " |      When the timeout argument is present and not None, it should be a\n",
            " |      floating point number specifying a timeout for the operation in seconds\n",
            " |      (or fractions thereof). As join() always returns None, you must call\n",
            " |      is_alive() after join() to decide whether a timeout happened -- if the\n",
            " |      thread is still alive, the join() call timed out.\n",
            " |      \n",
            " |      When the timeout argument is not present or None, the operation will\n",
            " |      block until the thread terminates.\n",
            " |      \n",
            " |      A thread can be join()ed many times.\n",
            " |      \n",
            " |      join() raises a RuntimeError if an attempt is made to join the current\n",
            " |      thread as that would cause a deadlock. It is also an error to join() a\n",
            " |      thread before it has been started and attempts to do so raises the same\n",
            " |      exception.\n",
            " |  \n",
            " |  run(self)\n",
            " |      Method representing the thread's activity.\n",
            " |      \n",
            " |      You may override this method in a subclass. The standard run() method\n",
            " |      invokes the callable object passed to the object's constructor as the\n",
            " |      target argument, if any, with sequential and keyword arguments taken\n",
            " |      from the args and kwargs arguments, respectively.\n",
            " |  \n",
            " |  setDaemon(self, daemonic)\n",
            " |  \n",
            " |  setName(self, name)\n",
            " |  \n",
            " |  start(self)\n",
            " |      Start the thread's activity.\n",
            " |      \n",
            " |      It must be called at most once per thread object. It arranges for the\n",
            " |      object's run() method to be invoked in a separate thread of control.\n",
            " |      \n",
            " |      This method will raise a RuntimeError if called more than once on the\n",
            " |      same thread object.\n",
            " |  \n",
            " |  ----------------------------------------------------------------------\n",
            " |  Data descriptors defined here:\n",
            " |  \n",
            " |  __dict__\n",
            " |      dictionary for instance variables (if defined)\n",
            " |  \n",
            " |  __weakref__\n",
            " |      list of weak references to the object (if defined)\n",
            " |  \n",
            " |  daemon\n",
            " |      A boolean value indicating whether this thread is a daemon thread.\n",
            " |      \n",
            " |      This must be set before start() is called, otherwise RuntimeError is\n",
            " |      raised. Its initial value is inherited from the creating thread; the\n",
            " |      main thread is not a daemon thread and therefore all threads created in\n",
            " |      the main thread default to daemon = False.\n",
            " |      \n",
            " |      The entire Python program exits when only daemon threads are left.\n",
            " |  \n",
            " |  ident\n",
            " |      Thread identifier of this thread or None if it has not been started.\n",
            " |      \n",
            " |      This is a nonzero integer. See the get_ident() function. Thread\n",
            " |      identifiers may be recycled when a thread exits and another thread is\n",
            " |      created. The identifier is available even after the thread has exited.\n",
            " |  \n",
            " |  name\n",
            " |      A string used for identification purposes only.\n",
            " |      \n",
            " |      It has no semantics. Multiple threads may be given the same name. The\n",
            " |      initial name is set by the constructor.\n",
            "\n",
            "None\n",
            "  id_key       api_key   \n",
            "0    ID1  API_String_1   \n"
          ]
        }
      ]
    },
    {
      "cell_type": "code",
      "metadata": {
        "colab": {
          "base_uri": "https://localhost:8080/"
        },
        "id": "OPn-adCBeSGz",
        "outputId": "a39313d4-f75f-4f3c-8784-57e9aff50d16"
      },
      "source": [
        "print(df.shape)"
      ],
      "execution_count": 21,
      "outputs": [
        {
          "output_type": "stream",
          "name": "stdout",
          "text": [
            "(9999, 3)\n"
          ]
        }
      ]
    }
  ]
}